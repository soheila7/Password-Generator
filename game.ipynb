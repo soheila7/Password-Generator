{
 "cells": [
  {
   "cell_type": "code",
   "execution_count": null,
   "metadata": {},
   "outputs": [],
   "source": [
    "#random choice\n",
    "#random password generator\n",
    "#memorable password\n",
    "#pin code generator\n",
    "\n",
    "\n",
    "I"
   ]
  },
  {
   "cell_type": "code",
   "execution_count": 65,
   "metadata": {},
   "outputs": [
    {
     "name": "stdout",
     "output_type": "stream",
     "text": [
      "Retrieving notices: ...working... done\n",
      "Channels:\n",
      " - defaults\n",
      "Platform: linux-64\n",
      "Collecting package metadata (repodata.json): done\n",
      "Solving environment: done\n",
      "\n",
      "# All requested packages already installed.\n",
      "\n",
      "\n",
      "Note: you may need to restart the kernel to use updated packages.\n"
     ]
    }
   ],
   "source": [
    "conda install nltk"
   ]
  },
  {
   "cell_type": "code",
   "execution_count": 66,
   "metadata": {},
   "outputs": [
    {
     "name": "stderr",
     "output_type": "stream",
     "text": [
      "[nltk_data] Downloading package words to /home/seihani_7/nltk_data...\n",
      "[nltk_data]   Package words is already up-to-date!\n"
     ]
    }
   ],
   "source": [
    "import random\n",
    "from abc import ABC, abstractmethod\n",
    "import string\n",
    "import nltk \n",
    "nltk.download(\"words\")\n",
    "\n",
    "\n",
    "class Passwordgenerator(ABC):\n",
    "    @abstractmethod\n",
    "    def generator(self):\n",
    "        pass\n",
    "\n",
    "class Pincodegenerator(Passwordgenerator):\n",
    "    def __init__(self,lenght: int = 4):\n",
    "        self.lenght = lenght\n",
    "    \n",
    "    def generator(self):\n",
    "\n",
    "        return ''.join(random.choice(string.digits) for _ in range(self.lenght))\n",
    "\n",
    "\n",
    "\n",
    "\n"
   ]
  },
  {
   "cell_type": "code",
   "execution_count": 53,
   "metadata": {},
   "outputs": [],
   "source": [
    "class Memorable(Passwordgenerator):\n",
    "\n",
    "    def __init__(self, num_words: int = 5, separator = \"-\", capitalizatiion =False, vocabulary = None):\n",
    "        if vocabulary is None:\n",
    "            vocabulary = nltk.corpus.words.words()\n",
    "        \n",
    "        self.num_words = num_words\n",
    "        self.separator = separator\n",
    "        self.capitalizatiion = capitalizatiion\n",
    "        self.vocabulary = vocabulary\n",
    "\n",
    "    def generator(self):\n",
    "        password_words = [random.choice(self.vocabulary) for _ in range(self.num_words)]\n",
    "        if self.capitalizatiion :\n",
    "            password_words = [word.uper() for word in password_words]\n",
    "        \n",
    "        return self.separator.join(password_words)\n",
    "\n",
    "    \n"
   ]
  },
  {
   "cell_type": "code",
   "execution_count": 67,
   "metadata": {},
   "outputs": [],
   "source": [
    "class Randompassword(Passwordgenerator):\n",
    "    def __init__(self, lenght = 8, include_num = False, include_symb = False):\n",
    "        self.lenght = lenght\n",
    "        self.character = string.ascii_letters\n",
    "        if include_num:\n",
    "            self.character += string.digits\n",
    "        if include_symb:\n",
    "            self.character += string.punctuation\n",
    "    \n",
    "    def generator(self):\n",
    "        return ''.join(random.choice(self.character) for _ in range(self.lenght))\n",
    "    "
   ]
  },
  {
   "cell_type": "code",
   "execution_count": null,
   "metadata": {},
   "outputs": [],
   "source": []
  },
  {
   "cell_type": "code",
   "execution_count": null,
   "metadata": {},
   "outputs": [],
   "source": []
  }
 ],
 "metadata": {
  "kernelspec": {
   "display_name": "jupyterlab_environment",
   "language": "python",
   "name": "python3"
  },
  "language_info": {
   "codemirror_mode": {
    "name": "ipython",
    "version": 3
   },
   "file_extension": ".py",
   "mimetype": "text/x-python",
   "name": "python",
   "nbconvert_exporter": "python",
   "pygments_lexer": "ipython3",
   "version": "3.10.15"
  }
 },
 "nbformat": 4,
 "nbformat_minor": 2
}
